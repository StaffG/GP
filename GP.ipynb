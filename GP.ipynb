{
 "cells": [
  {
   "cell_type": "markdown",
   "metadata": {},
   "source": [
    "# Gaussian Processes"
   ]
  },
  {
   "cell_type": "markdown",
   "metadata": {},
   "source": [
    "Instead of placing a prior on the parameters, the idea is to define a prior on the approximation function itself.\n",
    "\n",
    "We consider the following function:\n",
    "\n",
    "\\begin{align*}\n",
    "    y = f(x) + \\epsilon, \\quad \\epsilon \\sim \\mathcal{N}(0, \\sigma_n^2)\n",
    "\\end{align*}\n",
    "\n",
    "The Bayes theorem is, in this case:\n",
    "\n",
    "\\begin{align*}\n",
    "p(f|X, y) = \\frac{p(y|f, X)p(f|X)}{p(y|X)} \n",
    "\\end{align*}\n",
    "\n",
    "- $p(f|X)$ is the prior on the function, defined by a Gaussian Process (GP): $GP(m, k)$,\n",
    "- $p(y|f, X)$ is the likelihood (noisy model), defined by a Gaussian $\\mathcal{N}(f(X), \\sigma_n^2 I)$,\n",
    "- $p(y|X)$ is the marginal likelihood, is the integral $\\int p(y|f, X)p(f|X) df$,\n",
    "- $p(f|y, X)$ is the posterior, defined by: $GP(m_{post}, k_{post})$.\n",
    "\n",
    "The GP can be seen as an infinite vector of Gaussians. But, since the dataset are always finite, the marginal remains finite (with $f=f_{train}$ and $f_*=f_{test}$):\n",
    "\n",
    "\\begin{align*}\n",
    "p(f, f_*) = \\int p(f,f_*, f_{other})d f_{other} = \\mathcal{N} \\left( \n",
    "\\begin{bmatrix} \n",
    "\\mu_f \\\\\n",
    "\\mu_* \n",
    "\\end{bmatrix},\n",
    "\\begin{bmatrix} \n",
    "\\Sigma_{ff} & \\Sigma_{f*} \\\\\n",
    "\\Sigma_{*f} & \\Sigma_{** }\n",
    "\\end{bmatrix}\n",
    "\\right)\n",
    "\\end{align*}\n",
    "\n",
    "Since, the GP is just a 'vector' of Gaussians, we can rewrite the prior:\n",
    "\n",
    "\\begin{align*}\n",
    "GP(m, k) = \\mathcal{N}(m(X), K)\n",
    "\\end{align*}\n",
    "\n",
    "Where $K$ is the covariance matrix between the different points of the dataset: $K=k(X,X)$.\n",
    "\n",
    "Since, we can write similar expressions for the test set, the joint distribution can be expressed:\n",
    "\n",
    "\\begin{align*}\n",
    "p(f, f_* | X, X_*) = \\mathcal{N} \\left( \n",
    "\\begin{bmatrix} \n",
    "m(X) \\\\\n",
    "m(X_*) \n",
    "\\end{bmatrix},\n",
    "\\begin{bmatrix} \n",
    "K & k(X, X_*)\\\\\n",
    "k(X_*, X) & k(X_*, X_*)\n",
    "\\end{bmatrix}\n",
    "\\right)\n",
    "\\end{align*}\n",
    "\n",
    "Since we know the likelihood $\\mathcal{N}(y|f(X), \\sigma_n^2 I)$, we can rewrite the joint distribution:\n",
    "\n",
    "\\begin{align*}\n",
    "p(y, f_* | X, X_*) = \\mathcal{N} \\left( \n",
    "\\begin{bmatrix} \n",
    "m(X) \\\\\n",
    "m(X_*) \n",
    "\\end{bmatrix},\n",
    "\\begin{bmatrix} \n",
    "K + \\sigma_n^2 I & k(X, X_*)\\\\\n",
    "k(X_*, X) & k(X_*, X_*)\n",
    "\\end{bmatrix}\n",
    "\\right)\n",
    "\\end{align*}\n",
    "\n",
    "The posterior distribution is then simply obtained by Gaussian conditioning:\n",
    "\n",
    "\\begin{align*}\n",
    "p(f_* |X, y, X_*) = \\mathcal{N}(m_{post}, k_{post})\n",
    "\\end{align*}\n",
    "\n",
    "Where the mean function and the covariance function (kernel) are:\n",
    "\n",
    "\\begin{align*}\n",
    "m_{post}(X_*) &= m(X_*) + k(X_*, X)(K+\\sigma_n^2 I)^{-1} (y-m(X))\\\\\n",
    "k_{post}(X_*, X_*) &= k(X_*, X_*)-k(X_*, X)(K+\\sigma_n^2)^{-1}k(X, X_*)\n",
    "\\end{align*}\n",
    "\n",
    "A commun kernel to choose is the Gaussian one:\n",
    "\n",
    "\\begin{align*}\n",
    "k_{Gauss}(x_i, x_j) = \\sigma_f^2 \\exp \\left(-\\frac{(x_i-x_j)^T(x_i-x_j)}{l^2} \\right)\n",
    "\\end{align*}\n",
    "\n",
    "Where $\\sigma_f^2$ is the amplitude parameter, and $l$ the legth-scale."
   ]
  },
  {
   "cell_type": "markdown",
   "metadata": {},
   "source": [
    "## Compute the posterior 'by hand'"
   ]
  },
  {
   "cell_type": "code",
   "execution_count": 1,
   "metadata": {},
   "outputs": [],
   "source": [
    "import numpy as np\n",
    "from matplotlib import pyplot as plt\n",
    "import GPy\n",
    "from ipywidgets import interact, interactive, fixed, interact_manual\n",
    "import ipywidgets as widgets"
   ]
  },
  {
   "cell_type": "code",
   "execution_count": 2,
   "metadata": {},
   "outputs": [
    {
     "data": {
      "text/plain": [
       "<matplotlib.legend.Legend at 0x7f2cd3d3e400>"
      ]
     },
     "execution_count": 2,
     "metadata": {},
     "output_type": "execute_result"
    },
    {
     "data": {
      "image/png": "[encoded data removed]",
      "text/plain": [
       "<Figure size 432x288 with 1 Axes>"
      ]
     },
     "metadata": {
      "needs_background": "light"
     },
     "output_type": "display_data"
    }
   ],
   "source": [
    "N = 12\n",
    "sigma = 0.1 #std\n",
    "\n",
    "def f(x):\n",
    "    return -np.cos(2*np.pi*x) + 0.5*np.sin(6*np.pi*x)\n",
    "\n",
    "X = np.linspace(0, 1, N)[:,None]\n",
    "Y = f(X) + np.random.normal(0, sigma, (N,1)) #std\n",
    "\n",
    "plt.scatter(X, Y, label='sample point', color='black', marker='+')\n",
    "plt.xlabel(\"x\")\n",
    "plt.ylabel(\"f\")\n",
    "plt.legend()"
   ]
  },
  {
   "cell_type": "code",
   "execution_count": 3,
   "metadata": {},
   "outputs": [],
   "source": [
    "var = 1\n",
    "l = 0.1\n",
    "noise = 1\n",
    "\n",
    "k = GPy.kern.RBF(1, variance=var, lengthscale=l, name=\"rbf\") # Gaussian kernel\n",
    "\n",
    "Xnew = np.linspace(0, 1, 100)[:, None]\n",
    "\n",
    "Kxx = k.K(X,X) + noise * np.eye(N) # Covariance between training sample points (+ Gaussian noise)\n",
    "Kxs = k.K(Xnew, X) # Covariance between training and test points\n",
    "Kss = k.K(Xnew,Xnew) # Covariance between test points\n",
    "\n",
    "mean = np.dot(Kxs, np.dot(np.linalg.inv(Kxx), Y))  # m_post\n",
    "Cov = Kss - np.dot(Kxs, np.dot(np.linalg.inv(Kxx), Kxs.T)) # k_post"
   ]
  },
  {
   "cell_type": "code",
   "execution_count": 4,
   "metadata": {},
   "outputs": [],
   "source": [
    "def plot_gp(X, m, C, training_points=None):\n",
    "    plt.fill_between(X[:,0], m[:,0] - 1.96*np.sqrt(np.diag(C)), m[:,0] + 1.96*np.sqrt(np.diag(C)), color='lightgrey')\n",
    "    plt.plot(X, m, color='black', label='GP fit')\n",
    "    plt.legend()\n",
    "    plt.xlabel(\"x\")\n",
    "    plt.ylabel(\"f\")\n",
    "    \n",
    "    # Plot training points if included\n",
    "    if training_points is not None:\n",
    "        X_, Y_ = training_points\n",
    "        plt.scatter(X_, Y_, color='black', label='sample point', marker='x')\n",
    "        plt.legend()"
   ]
  },
  {
   "cell_type": "code",
   "execution_count": 5,
   "metadata": {},
   "outputs": [
    {
     "data": {
      "image/png": "[encoded data removed]",
      "text/plain": [
       "<Figure size 432x288 with 1 Axes>"
      ]
     },
     "metadata": {
      "needs_background": "light"
     },
     "output_type": "display_data"
    }
   ],
   "source": [
    "# Plot the GP fit mean and covariance\n",
    "plot_gp(Xnew, mean, Cov, training_points=(X,Y))\n",
    "plt.title(\"Explicit (homemade) regression model fit\");"
   ]
  },
  {
   "cell_type": "markdown",
   "metadata": {},
   "source": [
    "## An introduction to GPy"
   ]
  },
  {
   "cell_type": "code",
   "execution_count": 6,
   "metadata": {},
   "outputs": [
    {
     "data": {
      "text/html": [
       "<style type=\"text/css\">\n",
       ".pd{\n",
       "    font-family: \"Courier New\", Courier, monospace !important;\n",
       "    width: 100%;\n",
       "    padding: 3px;\n",
       "}\n",
       "</style>\n",
       "\n",
       "<p class=pd>\n",
       "<b>Model</b>: GP regression<br>\n",
       "<b>Objective</b>: 16.264445110191037<br>\n",
       "<b>Number of Parameters</b>: 3<br>\n",
       "<b>Number of Optimization Parameters</b>: 3<br>\n",
       "<b>Updates</b>: True<br>\n",
       "</p>\n",
       "<style type=\"text/css\">\n",
       ".tg  {font-family:\"Courier New\", Courier, monospace !important;padding:2px 3px;word-break:normal;border-collapse:collapse;border-spacing:0;border-color:#DCDCDC;margin:0px auto;width:100%;}\n",
       ".tg td{font-family:\"Courier New\", Courier, monospace !important;font-weight:bold;color:#444;background-color:#F7FDFA;border-style:solid;border-width:1px;overflow:hidden;word-break:normal;border-color:#DCDCDC;}\n",
       ".tg th{font-family:\"Courier New\", Courier, monospace !important;font-weight:normal;color:#fff;background-color:#26ADE4;border-style:solid;border-width:1px;overflow:hidden;word-break:normal;border-color:#DCDCDC;}\n",
       ".tg .tg-left{font-family:\"Courier New\", Courier, monospace !important;font-weight:normal;text-align:left;}\n",
       ".tg .tg-center{font-family:\"Courier New\", Courier, monospace !important;font-weight:normal;text-align:center;}\n",
       ".tg .tg-right{font-family:\"Courier New\", Courier, monospace !important;font-weight:normal;text-align:right;}\n",
       "</style>\n",
       "<table class=\"tg\"><tr><th><b>  GP_regression.         </b></th><th><b>value</b></th><th><b>constraints</b></th><th><b>priors</b></th></tr>\n",
       "<tr><td class=tg-left>  rbf.variance           </td><td class=tg-right>  1.0</td><td class=tg-center>    +ve    </td><td class=tg-center>      </td></tr>\n",
       "<tr><td class=tg-left>  rbf.lengthscale        </td><td class=tg-right>  0.1</td><td class=tg-center>    +ve    </td><td class=tg-center>      </td></tr>\n",
       "<tr><td class=tg-left>  Gaussian_noise.variance</td><td class=tg-right>  1.0</td><td class=tg-center>    +ve    </td><td class=tg-center>      </td></tr>\n",
       "</table>"
      ],
      "text/plain": [
       "<GPy.models.gp_regression.GPRegression at 0x7f2cd3c822b0>"
      ]
     },
     "execution_count": 6,
     "metadata": {},
     "output_type": "execute_result"
    }
   ],
   "source": [
    "m = GPy.models.GPRegression(X, Y, k)\n",
    "m "
   ]
  },
  {
   "cell_type": "code",
   "execution_count": 7,
   "metadata": {},
   "outputs": [
    {
     "data": {
      "image/png": "[encoded data removed]",
      "text/plain": [
       "<Figure size 432x288 with 1 Axes>"
      ]
     },
     "metadata": {
      "needs_background": "light"
     },
     "output_type": "display_data"
    }
   ],
   "source": [
    "m.Gaussian_noise = noise\n",
    "\n",
    "mean, Cov = m.predict_noiseless(Xnew, full_cov=True) # m_post and k_post\n",
    "\n",
    "plot_gp(Xnew, mean, Cov, training_points=(X,Y))\n",
    "plt.title(\"GPy regression model fit\");"
   ]
  },
  {
   "cell_type": "code",
   "execution_count": 8,
   "metadata": {},
   "outputs": [],
   "source": [
    "def plot_sample_GP(noise, length, signal_var, kernel):\n",
    "    if kernel == 'rbf':\n",
    "        k = GPy.kern.RBF(1, variance=signal_var, lengthscale=length, name=\"rbf\")\n",
    "    elif kernel == 'matern':\n",
    "        k = GPy.kern.Matern32(1, variance=signal_var, lengthscale=length, name=\"matern\") \n",
    "    \n",
    "    m.kern = k\n",
    "    m.Gaussian_noise = noise\n",
    "    mean, Cov = m.predict_noiseless(Xnew, full_cov=True)\n",
    "    \n",
    "    plt.figure(figsize=(14, 8))\n",
    "    plt.fill_between(Xnew[:,0], mean[:,0] - 1.96*np.sqrt(np.diag(Cov)), mean[:,0] + 1.96*np.sqrt(np.diag(Cov)), color='lightgrey', alpha=0.5)\n",
    "    Z = np.random.multivariate_normal(mean[:,0], Cov, 10)\n",
    "    for z in Z:\n",
    "        plt.plot(Xnew, z, \"g-\", alpha=0.2, color='red')\n",
    "    plt.scatter(X, Y, color='black', label='sample point', marker='x')\n",
    "    plt.xlabel(\"x\")\n",
    "    plt.ylabel(\"f\")\n",
    "    plt.title(\"samples from the posterior GP fit of $f$\")\n",
    "    plt.legend()"
   ]
  },
  {
   "cell_type": "code",
   "execution_count": 9,
   "metadata": {},
   "outputs": [
    {
     "data": {
      "application/vnd.jupyter.widget-view+json": {
       "model_id": "2cc5e1877517474ebd9a1882970c06cd",
       "version_major": 2,
       "version_minor": 0
      },
      "text/plain": [
       "HBox(children=(VBox(children=(FloatLogSlider(value=0.1, description='noise', max=1.0, min=-3.0), FloatLogSlide…"
      ]
     },
     "metadata": {},
     "output_type": "display_data"
    },
    {
     "data": {
      "application/vnd.jupyter.widget-view+json": {
       "model_id": "a37f97fc97fa4fa39537becf20450191",
       "version_major": 2,
       "version_minor": 0
      },
      "text/plain": [
       "Output()"
      ]
     },
     "metadata": {},
     "output_type": "display_data"
    }
   ],
   "source": [
    "noise=widgets.FloatLogSlider(value=0.1, base=10, min=-3, max=1, step=0.1, description='noise')\n",
    "length=widgets.FloatLogSlider(value=0.1, base=10, min=-2, max=1, step=0.1, description='length')\n",
    "signal_var=widgets.FloatLogSlider(value=1, base=10, min=-2, max=1, step=0.1, description='signal var')\n",
    "kernel=widgets.RadioButtons(options=['rbf', 'matern'], description='kernel:', disabled=False)\n",
    "\n",
    "left_box = widgets.VBox([noise, length, signal_var])\n",
    "ui = widgets.HBox([left_box, kernel])\n",
    "out = widgets.interactive_output(plot_sample_GP, {'noise': noise, 'length': length, 'signal_var': signal_var, 'kernel': kernel})\n",
    "\n",
    "display(ui, out)"
   ]
  },
  {
   "cell_type": "markdown",
   "metadata": {},
   "source": [
    "In the above, the hyper-paramters of the GP are tuned manually:\n",
    "- parameters of the kernel (length scale, signal variance,...),\n",
    "- likelihood parameter (noise variance of the model).\n",
    "\n",
    "As usual, we place a prior on the hyper-parameters, and maximise the likelihood (equivalent to maximise the posterior if the prior $p(\\theta)=\\mathcal{U}$.\n",
    "\n",
    "\\begin{align*}\n",
    "p(\\theta|X,y)=\\frac{p(\\theta)p(y|X,\\theta)}{p(y,X)}\n",
    "\\end{align*}\n",
    "\n",
    "The likelihood with respect to the hyper-parameters $p(y|X,\\theta)$ appears to be also the marginal likelihood of the general model (with $f$). So to differentiate it from the likelihood with respect to $f$, this process is called 'Maximum Likelihood Type II' or 'Marginal likelihood Maximization'.\n",
    "\n",
    "The marginal likelihood can be expressed (with a prior mean function $m=0$):\n",
    "\n",
    "\\begin{align*}\n",
    "p(y|X,\\theta)&= \\int p(y|f, X)p(f|X,\\theta)df\\\\\n",
    "&=\\int \\mathcal{N}(y|f(X),\\sigma_n^2I) \\mathcal{N}(f(X)|0, K)df = \\mathcal{N}(y|0, K+\\sigma_n^2)\n",
    "\\end{align*}\n",
    "\n",
    "Then taking the log:\n",
    "\n",
    "\\begin{align*}\n",
    "\\log p(y|X,\\theta) = -\\frac{1}{2}y^T (K + \\sigma_n^2 I)^{-1}y -\\frac{1}{2} \\log|K + \\sigma_n^2 I| + const\n",
    "\\end{align*}\n",
    "\n",
    "The marginal likelihood is non convexe which makes it hard to find and optimum."
   ]
  },
  {
   "cell_type": "code",
   "execution_count": null,
   "metadata": {},
   "outputs": [],
   "source": []
  },
  {
   "cell_type": "code",
   "execution_count": null,
   "metadata": {},
   "outputs": [],
   "source": []
  }
 ],
 "metadata": {
  "kernelspec": {
   "display_name": "Python 3",
   "language": "python",
   "name": "python3"
  },
  "language_info": {
   "codemirror_mode": {
    "name": "ipython",
    "version": 3
   },
   "file_extension": ".py",
   "mimetype": "text/x-python",
   "name": "python",
   "nbconvert_exporter": "python",
   "pygments_lexer": "ipython3",
   "version": "3.6.7"
  },
  "varInspector": {
   "cols": {
    "lenName": 16,
    "lenType": 16,
    "lenVar": 40
   },
   "kernels_config": {
    "python": {
     "delete_cmd_postfix": "",
     "delete_cmd_prefix": "del ",
     "library": "var_list.py",
     "varRefreshCmd": "print(var_dic_list())"
    },
    "r": {
     "delete_cmd_postfix": ") ",
     "delete_cmd_prefix": "rm(",
     "library": "var_list.r",
     "varRefreshCmd": "cat(var_dic_list()) "
    }
   },
   "types_to_exclude": [
    "module",
    "function",
    "builtin_function_or_method",
    "instance",
    "_Feature"
   ],
   "window_display": false
  }
 },
 "nbformat": 4,
 "nbformat_minor": 2
}
